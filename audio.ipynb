{
  "cells": [
    {
      "cell_type": "code",
      "execution_count": 22,
      "metadata": {
        "id": "BoQwf0d_3uxg"
      },
      "outputs": [],
      "source": [
        "import numpy as np\n",
        "from tensorflow import keras\n",
        "import tensorflow\n",
        "from recorder import Recorder\n",
        "import matplotlib.pyplot as plt\n",
        "import scipy\n",
        "import librosa\n",
        "from librosa import display\n",
        "from IPython.display import Audio\n",
        "from scipy.fft import fft, fftfreq\n",
        "import numpy as np\n",
        "import cv2\n",
        "from google.colab.patches import cv2_imshow"
      ]
    },
    {
      "cell_type": "code",
      "execution_count": 23,
      "metadata": {
        "colab": {
          "base_uri": "https://localhost:8080/"
        },
        "id": "v7RDdsCd3x3V",
        "outputId": "2ffc2d3c-aabd-4b01-9337-f2a5c419c406"
      },
      "outputs": [
        {
          "name": "stdout",
          "output_type": "stream",
          "text": [
            "Reading package lists... Done\n",
            "Building dependency tree... Done\n",
            "Reading state information... Done\n",
            "libportaudio2 is already the newest version (19.6.0-1.1).\n",
            "0 upgraded, 0 newly installed, 0 to remove and 15 not upgraded.\n"
          ]
        }
      ],
      "source": [
        "!sudo apt-get install libportaudio2\n"
      ]
    },
    {
      "cell_type": "code",
      "execution_count": 24,
      "metadata": {
        "colab": {
          "base_uri": "https://localhost:8080/"
        },
        "id": "l2w4bR5Z4HXr",
        "outputId": "56d04b59-216a-4ee5-873c-c2b3202f5d96"
      },
      "outputs": [
        {
          "name": "stdout",
          "output_type": "stream",
          "text": [
            "Reading package lists... Done\n",
            "Building dependency tree... Done\n",
            "Reading state information... Done\n",
            "libasound2-dev is already the newest version (1.2.6.1-1ubuntu1).\n",
            "libportaudio2 is already the newest version (19.6.0-1.1).\n",
            "libportaudiocpp0 is already the newest version (19.6.0-1.1).\n",
            "portaudio19-dev is already the newest version (19.6.0-1.1).\n",
            "ffmpeg is already the newest version (7:4.4.2-0ubuntu0.22.04.1).\n",
            "0 upgraded, 0 newly installed, 0 to remove and 15 not upgraded.\n"
          ]
        }
      ],
      "source": [
        "!apt install libasound2-dev portaudio19-dev libportaudio2 libportaudiocpp0 ffmpeg"
      ]
    },
    {
      "cell_type": "code",
      "execution_count": 12,
      "metadata": {
        "colab": {
          "base_uri": "https://localhost:8080/"
        },
        "id": "v7gLW2F94fIk",
        "outputId": "9b0e85c3-a9b0-4500-bc71-298a369ba65a"
      },
      "outputs": [
        {
          "name": "stdout",
          "output_type": "stream",
          "text": [
            "Collecting PyAudio\n",
            "  Using cached PyAudio-0.2.14.tar.gz (47 kB)\n",
            "  Installing build dependencies ... \u001b[?25l\u001b[?25hdone\n",
            "  Getting requirements to build wheel ... \u001b[?25l\u001b[?25hdone\n",
            "  Preparing metadata (pyproject.toml) ... \u001b[?25l\u001b[?25hdone\n",
            "Building wheels for collected packages: PyAudio\n",
            "  Building wheel for PyAudio (pyproject.toml) ... \u001b[?25l\u001b[?25hdone\n",
            "  Created wheel for PyAudio: filename=PyAudio-0.2.14-cp310-cp310-linux_x86_64.whl size=63860 sha256=eabd96e7cdddbe79d204025c2d05b77f70732742aff23d564dcc1e2f417dd8ba\n",
            "  Stored in directory: /root/.cache/pip/wheels/d6/21/f4/0b51d41ba79e51b16295cbb096ec49f334792814d545b508c5\n",
            "Successfully built PyAudio\n",
            "Installing collected packages: PyAudio\n",
            "Successfully installed PyAudio-0.2.14\n"
          ]
        }
      ],
      "source": [
        "!pip install PyAudio"
      ]
    },
    {
      "cell_type": "code",
      "execution_count": 14,
      "metadata": {
        "colab": {
          "base_uri": "https://localhost:8080/"
        },
        "id": "mn85jzV97BGg",
        "outputId": "b5c2f327-ea08-4e2b-9fc7-82c601d37cbb"
      },
      "outputs": [
        {
          "name": "stdout",
          "output_type": "stream",
          "text": [
            "Collecting recorder\n",
            "  Using cached recorder-0.0.2-py3-none-any.whl\n",
            "Requirement already satisfied: pyaudio in /usr/local/lib/python3.10/dist-packages (from recorder) (0.2.14)\n",
            "Requirement already satisfied: numpy in /usr/local/lib/python3.10/dist-packages (from recorder) (1.23.5)\n",
            "Installing collected packages: recorder\n",
            "Successfully installed recorder-0.0.2\n"
          ]
        }
      ],
      "source": [
        "pip install recorder"
      ]
    },
    {
      "cell_type": "code",
      "execution_count": 17,
      "metadata": {
        "colab": {
          "base_uri": "https://localhost:8080/"
        },
        "id": "vTgGVPyS7OEa",
        "outputId": "b9c31eee-d78f-43bf-c7cc-1f61a4846515"
      },
      "outputs": [
        {
          "data": {
            "text/plain": [
              "False"
            ]
          },
          "execution_count": 17,
          "metadata": {},
          "output_type": "execute_result"
        }
      ],
      "source": [
        "frameWidth = 640\n",
        "frameHeight = 480\n",
        "cap = cv2.VideoCapture('/content/ambulance.mp4')\n",
        "#cap = cv2.VideoCapture(1)\n",
        "cap.set(3, frameWidth)\n",
        "cap.set(4, frameHeight)\n",
        "cap.set(10,150)\n"
      ]
    },
    {
      "cell_type": "code",
      "execution_count": 18,
      "metadata": {
        "colab": {
          "base_uri": "https://localhost:8080/"
        },
        "id": "23jGR0li71Uo",
        "outputId": "5dea8ba9-2fb1-415f-d58a-ae6b2bd470d4"
      },
      "outputs": [
        {
          "name": "stderr",
          "output_type": "stream",
          "text": [
            "WARNING:tensorflow:No training configuration found in the save file, so the model was *not* compiled. Compile it manually.\n"
          ]
        }
      ],
      "source": [
        "data = np.ndarray(shape=(1, 224, 224, 3), dtype=np.float32)\n",
        "np.set_printoptions(suppress=True)\n",
        "model = tensorflow.keras.models.load_model('/content/keras_model.h5')"
      ]
    },
    {
      "cell_type": "code",
      "execution_count": 25,
      "metadata": {
        "id": "_jp1_FvT9Jil"
      },
      "outputs": [],
      "source": [
        "def emergency():\n",
        "\n",
        "   # r = Recorder()\n",
        "    #r.record(5, output='out.wav')\n",
        "    fname=\"/content/sound_1.wav\"\n",
        "    samples, sam_rate=librosa.load(fname, sr=None, mono=True, offset=0.0, duration=None)\n",
        "\n",
        "\n",
        "    Audio(fname)\n",
        "\n",
        "    #plt.figure()\n",
        "    #librosa.display.waveplot(y=samples, sr=sam_rate)\n",
        "    #plt.xlabel(\"time secs\")\n",
        "    #plt.ylabel(\"Ampl\")\n",
        "    #plt.show()\n",
        "\n",
        "    def fft_plot(audio, sam_rate):\n",
        "        n = len(audio)\n",
        "        T= 1/sam_rate\n",
        "        yf = fft(audio)\n",
        "        xf = fftfreq(n, T)#[:n//2]\n",
        "        #fig, ax = plt.subplots()\n",
        "        #plt.plot(xf, 2.0/n * np.abs(yf)) #np.abs(yf[0:n//2]))\n",
        "        #plt.grid()\n",
        "        #plt.xlabel(\"Freq\")\n",
        "        #plt.ylabel(\"mag\")\n",
        "        val=np.argmax(yf)\n",
        "        #plt.show()\n",
        "        return np.abs(xf[val])\n",
        "\n",
        "\n",
        "    audio_freq = fft_plot(samples, sam_rate)\n",
        "    freq = audio_freq.round()\n",
        "    if freq in range(700,1500):\n",
        "        #  cv2.putText(image,'Ambulance detecated',(450,100),cv2.FONT_HERSHEY_COMPLEX,1,(0,0,255),2)\n",
        "\n",
        "         print(\"it is a emergency vechicle\")\n",
        "    else:\n",
        "        pass"
      ]
    },
    {
      "cell_type": "code",
      "execution_count": null,
      "metadata": {
        "colab": {
          "base_uri": "https://localhost:8080/",
          "height": 1000
        },
        "id": "xQcPfrTq9r8O",
        "outputId": "1dc82a30-93a3-4522-f3d7-0b5689095c65"
      },
      "outputs": [],
      "source": [
        "amc = 0\n",
        "fir = 0\n",
        "pol = 0\n",
        "while True:\n",
        "\n",
        "    success, img = cap.read()\n",
        "    image = img\n",
        "    img = cv2.resize(img,(224,224))\n",
        "    img_res = np.asarray(img)\n",
        "    normalized_image_array = (img_res.astype(np.float32) / 127.0) - 1\n",
        "    data[0] = normalized_image_array\n",
        "    prediction = model.predict(data)\n",
        "    #print(prediction[0][0])\n",
        "\n",
        "    #print(text)\n",
        "    ambulanc_acc =(prediction[0][0])\n",
        "    firengin_acc = []\n",
        "\n",
        "    ambulance = (f'ambulance:{prediction[0][0].round()}')\n",
        "    firengine = (f'firengine:{prediction[0][1].round()}')\n",
        "    policecar = (f'policecar:{prediction[0][2].round()}')\n",
        "    trafic =    (f'trafic:{prediction[0][3].round()}')\n",
        "\n",
        "\n",
        "    if ambulance == 'ambulance:1.0':\n",
        "        amc = amc + 1\n",
        "    if amc == 20:\n",
        "        amc = 0\n",
        "        emergency()\n",
        "\n",
        "\n",
        "\n",
        "    if firengine == 'firengine:1.0':\n",
        "        cv2.putText(image,'Firengine detecated',(450,100),cv2.FONT_HERSHEY_COMPLEX,1,(0,0,255),2)\n",
        "\n",
        "    if policecar == 'policecar:1.0':\n",
        "        cv2.putText(image,'Policecar detecated',(450,100),cv2.FONT_HERSHEY_COMPLEX,1,(0,0,255),2)\n",
        "\n",
        "   # if trafic == 'trafic:1.0':\n",
        "       # cv2.putText(image,'trafic detecated',(50,150),cv2.FONT_HERSHEY_COMPLEX,1,(0,0,0),2)\n",
        "    print(amc)\n",
        "\n",
        "    text = (f'{ambulance}% {firengine}% {policecar}% {trafic}% {amc}')\n",
        "   # print(text)\n",
        "\n",
        "    cv2.putText(image,text,(15,20),cv2.FONT_HERSHEY_COMPLEX,1,(0,0,0),2)\n",
        "    cv2_imshow(image)\n",
        "    if cv2.waitKey(1) and 0xFF == ord('q'):\n",
        "        break"
      ]
    },
    {
      "cell_type": "code",
      "execution_count": null,
      "metadata": {
        "id": "OsOdw9IC9-OT"
      },
      "outputs": [],
      "source": []
    }
  ],
  "metadata": {
    "colab": {
      "provenance": []
    },
    "kernelspec": {
      "display_name": "Python 3",
      "name": "python3"
    },
    "language_info": {
      "name": "python"
    }
  },
  "nbformat": 4,
  "nbformat_minor": 0
}
